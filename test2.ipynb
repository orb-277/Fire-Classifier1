{
 "cells": [
  {
   "cell_type": "markdown",
   "metadata": {},
   "source": []
  },
  {
   "cell_type": "code",
   "execution_count": 2,
   "metadata": {},
   "outputs": [
    {
     "name": "stderr",
     "output_type": "stream",
     "text": [
      "2023-04-09 19:56:33.447781: I tensorflow/core/platform/cpu_feature_guard.cc:193] This TensorFlow binary is optimized with oneAPI Deep Neural Network Library (oneDNN) to use the following CPU instructions in performance-critical operations:  SSE4.1 SSE4.2 AVX AVX2 FMA\n",
      "To enable them in other operations, rebuild TensorFlow with the appropriate compiler flags.\n",
      "2023-04-09 19:56:39.667406: I tensorflow/core/platform/cpu_feature_guard.cc:193] This TensorFlow binary is optimized with oneAPI Deep Neural Network Library (oneDNN) to use the following CPU instructions in performance-critical operations:  SSE4.1 SSE4.2 AVX AVX2 FMA\n",
      "To enable them in other operations, rebuild TensorFlow with the appropriate compiler flags.\n",
      "2023-04-09 19:56:39.669364: I tensorflow/core/common_runtime/process_util.cc:146] Creating new thread pool with default inter op setting: 2. Tune using inter_op_parallelism_threads for best performance.\n"
     ]
    },
    {
     "name": "stdout",
     "output_type": "stream",
     "text": [
      "4/4 [==============================] - 4s 707ms/step\n"
     ]
    }
   ],
   "source": [
    "\n",
    "import tensorflow as tf\n",
    "import os\n",
    "import numpy as np\n",
    "import random\n",
    "import cv2 as cv\n",
    "\n",
    "\n",
    "\n",
    "import matplotlib.pyplot as plt\n",
    "\n",
    "##from skimage.io import imread,imshow\n",
    "\n",
    "model = tf.keras.models.load_model('Modelv1',compile=False)\n",
    "\n",
    "data = np.load('data.npz')\n",
    "X_train = data['X_train']\n",
    "X_test = data['X_test']\n",
    "Y_test = data['Y_test']\n",
    "\n",
    "preds_test = model.predict(X_test)\n",
    "#preds_test = (preds_test > 0.5).astype(np.uint8)\n",
    "\n",
    "\n",
    "\n",
    "\n",
    "\n",
    "\n",
    "\n",
    "\n",
    "\n",
    "\n"
   ]
  },
  {
   "cell_type": "code",
   "execution_count": 3,
   "metadata": {},
   "outputs": [
    {
     "data": {
      "text/plain": [
       "True"
      ]
     },
     "execution_count": 3,
     "metadata": {},
     "output_type": "execute_result"
    }
   ],
   "source": [
    "preds_test = (preds_test > 0.5).astype(np.uint8)\n",
    "1 in preds_test[0]"
   ]
  },
  {
   "cell_type": "code",
   "execution_count": 4,
   "metadata": {},
   "outputs": [],
   "source": [
    "ix = random.randint(0, len(X_test))\n",
    "img = cv.cvtColor(X_test[1],cv.COLOR_BGR2GRAY)\n",
    "img2=np.array(preds_test[1]).astype('uint8')\n",
    "\n",
    "# img2 = img2.transpose(2,0,1).reshape(128,-1)\n",
    "\n",
    "\n",
    "for i in range(img2.shape[0]):\n",
    "    for j in range(img2.shape[1]):\n",
    "        if img2[i][j] == 1:\n",
    "            img2[i][j] = 255\n",
    "\n",
    "\n",
    "cv.imshow('X',img)\n",
    "cv.waitKey(0)\n",
    "# cv.imshow('Y',np.array(Y_test[ix]).astype('uint8'))\n",
    "cv.imshow('Pred',img2)\n",
    "\n",
    "\n",
    "\n",
    "\n",
    "\n",
    "cv.waitKey(0)\n",
    "cv.destroyAllWindows()\n",
    "\n"
   ]
  },
  {
   "cell_type": "code",
   "execution_count": 5,
   "metadata": {},
   "outputs": [],
   "source": [
    "contours, hierarchy = cv.findContours(img2,cv.RETR_EXTERNAL,cv.CHAIN_APPROX_SIMPLE)"
   ]
  },
  {
   "cell_type": "code",
   "execution_count": 40,
   "metadata": {},
   "outputs": [
    {
     "data": {
      "text/plain": [
       "[array([[67,  0]], dtype=int32),\n",
       " array([[72,  0]], dtype=int32),\n",
       " array([[72,  1]], dtype=int32),\n",
       " array([[67,  2]], dtype=int32),\n",
       " array([[76,  2]], dtype=int32),\n",
       " array([[73,  2]], dtype=int32),\n",
       " array([[66,  3]], dtype=int32),\n",
       " array([[64,  3]], dtype=int32),\n",
       " array([[66,  3]], dtype=int32),\n",
       " array([[67,  4]], dtype=int32),\n",
       " array([[67,  6]], dtype=int32),\n",
       " array([[66,  7]], dtype=int32),\n",
       " array([[65,  7]], dtype=int32),\n",
       " array([[66,  7]], dtype=int32),\n",
       " array([[67,  8]], dtype=int32),\n",
       " array([[67, 10]], dtype=int32),\n",
       " array([[66, 11]], dtype=int32),\n",
       " array([[64, 11]], dtype=int32),\n",
       " array([[65, 12]], dtype=int32),\n",
       " array([[66, 12]], dtype=int32),\n",
       " array([[64, 13]], dtype=int32),\n",
       " array([[67, 13]], dtype=int32),\n",
       " array([[67, 14]], dtype=int32),\n",
       " array([[66, 15]], dtype=int32),\n",
       " array([[63, 15]], dtype=int32),\n",
       " array([[64, 16]], dtype=int32),\n",
       " array([[73, 16]], dtype=int32),\n",
       " array([[74, 16]], dtype=int32),\n",
       " array([[76, 16]], dtype=int32),\n",
       " array([[63, 17]], dtype=int32),\n",
       " array([[66, 17]], dtype=int32),\n",
       " array([[72, 17]], dtype=int32),\n",
       " array([[75, 17]], dtype=int32),\n",
       " array([[67, 18]], dtype=int32),\n",
       " array([[73, 18]], dtype=int32),\n",
       " array([[70, 19]], dtype=int32),\n",
       " array([[71, 19]], dtype=int32),\n",
       " array([[72, 19]], dtype=int32),\n",
       " array([[67, 20]], dtype=int32),\n",
       " array([[68, 20]], dtype=int32),\n",
       " array([[69, 20]], dtype=int32),\n",
       " array([[72, 20]], dtype=int32),\n",
       " array([[69, 21]], dtype=int32)]"
      ]
     },
     "execution_count": 40,
     "metadata": {},
     "output_type": "execute_result"
    }
   ],
   "source": [
    "c = contours\n",
    "c = list(c[5])\n",
    "c_sort_by_y = sorted(c,key = lambda x : x[0][1])\n",
    "c_sort_by_x = sorted(c,key = lambda x : x[0][0])\n",
    "c_sort_by_y"
   ]
  },
  {
   "cell_type": "code",
   "execution_count": 47,
   "metadata": {},
   "outputs": [
    {
     "data": {
      "text/plain": [
       "6"
      ]
     },
     "execution_count": 47,
     "metadata": {},
     "output_type": "execute_result"
    }
   ],
   "source": [
    "\n",
    "\n",
    "def getBaseWidthAndHeight(arr:list):\n",
    "    min_y = arr[len(arr)-1][0][1]\n",
    "    max_y = arr[0][0][1]\n",
    "    range = (min_y - max_y)/10\n",
    "    min_x = arr[len(arr)-1][0][0]\n",
    "    max_x = arr[len(arr)-1][0][0]\n",
    "    #print('hehe',max_x,min_x,range,max_y,min_y,min_y-range)\n",
    "\n",
    "    \n",
    "    i = len(arr)-1\n",
    "    while i >= 0:\n",
    "        if(arr[i][0][1] < int(min_y-range)):\n",
    "            break\n",
    "        if(arr[i][0][0] > max_x):\n",
    "            max_x = arr[i][0][0]\n",
    "        if(arr[i][0][0] < min_x):\n",
    "            min_x = arr[i][0][0]\n",
    "        i = i -1\n",
    "\n",
    "    return max_x - min_x,min_y-max_y\n",
    "\n",
    "# getBaseWidth_Height(c_sort_by_y)\n",
    "\n",
    "def getSymmetryScore(arr:list):\n",
    "    min_y = arr[len(arr)-1][0][1]\n",
    "    max_y = arr[0][0][1]\n",
    "\n",
    "\n",
    "\n",
    "\n"
   ]
  },
  {
   "cell_type": "code",
   "execution_count": null,
   "metadata": {},
   "outputs": [
    {
     "data": {
      "text/plain": [
       "array([[10, 11, 13, 22],\n",
       "       [ 7, 14, 20, 23],\n",
       "       [11, 17, 31, 33]])"
      ]
     },
     "execution_count": 8,
     "metadata": {},
     "output_type": "execute_result"
    }
   ],
   "source": [
    "a = np.array([[10, 11, 13, 22], [23, 7, 20, 14], [31, 11, 33, 17]])\n",
    "np.sort(a, axis= 1, kind=None, order=None) "
   ]
  },
  {
   "cell_type": "code",
   "execution_count": null,
   "metadata": {},
   "outputs": [],
   "source": []
  }
 ],
 "metadata": {
  "kernelspec": {
   "display_name": "Python 3.9.16 ('tf2')",
   "language": "python",
   "name": "python3"
  },
  "language_info": {
   "codemirror_mode": {
    "name": "ipython",
    "version": 3
   },
   "file_extension": ".py",
   "mimetype": "text/x-python",
   "name": "python",
   "nbconvert_exporter": "python",
   "pygments_lexer": "ipython3",
   "version": "3.9.16"
  },
  "orig_nbformat": 4,
  "vscode": {
   "interpreter": {
    "hash": "ed9ca85d4bfbbd06ad1fd45b698e05a94a8f346ef6c7ca06b6089ee8a1453e2e"
   }
  }
 },
 "nbformat": 4,
 "nbformat_minor": 2
}
